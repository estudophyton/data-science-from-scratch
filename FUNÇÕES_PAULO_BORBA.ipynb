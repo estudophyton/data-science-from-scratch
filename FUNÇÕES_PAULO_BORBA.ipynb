{
  "nbformat": 4,
  "nbformat_minor": 0,
  "metadata": {
    "colab": {
      "provenance": [],
      "authorship_tag": "ABX9TyM6l0YbihLTiNKJr36T/M+3",
      "include_colab_link": true
    },
    "kernelspec": {
      "name": "python3",
      "display_name": "Python 3"
    },
    "language_info": {
      "name": "python"
    }
  },
  "cells": [
    {
      "cell_type": "markdown",
      "metadata": {
        "id": "view-in-github",
        "colab_type": "text"
      },
      "source": [
        "<a href=\"https://colab.research.google.com/github/estudophyton/data-science-from-scratch/blob/master/FUN%C3%87%C3%95ES_PAULO_BORBA.ipynb\" target=\"_parent\"><img src=\"https://colab.research.google.com/assets/colab-badge.svg\" alt=\"Open In Colab\"/></a>"
      ]
    },
    {
      "cell_type": "markdown",
      "source": [
        "##CÁLCULO DE FATORIAL"
      ],
      "metadata": {
        "id": "3eHJjoRNqibb"
      }
    },
    {
      "cell_type": "code",
      "execution_count": 156,
      "metadata": {
        "colab": {
          "base_uri": "https://localhost:8080/"
        },
        "id": "BHETyr8baYnj",
        "outputId": "aff3fb7c-1b07-486a-c741-d1a864ccefca"
      },
      "outputs": [
        {
          "output_type": "stream",
          "name": "stdout",
          "text": [
            "Entre com o valor do fatorial desejado:0\n",
            "O resultado é: 1\n"
          ]
        }
      ],
      "source": [
        "x=input(\"Entre com o valor do fatorial desejado:\")\n",
        "y=int(x)\n",
        "fac = 1\n",
        "for i in range(1,y+1):\n",
        "  #print(fac)\n",
        "  fac *= i\n",
        "fac\n",
        "print(\"O resultado é:\",fac)"
      ]
    },
    {
      "cell_type": "code",
      "source": [
        "x=input(\"Entre com o valor do fatorial desejado:\")\n",
        "#y=int(x)\n",
        "if x != int:\n",
        "  fac = 1\n",
        "  for i in range(1,y+1):\n",
        "    #print(fac)\n",
        "    fac *= i\n",
        "  fac\n",
        "  print(\"O resultado é:\",fac)\n",
        "else:\n",
        " print(\"Insira um valor inteiro\")"
      ],
      "metadata": {
        "id": "B1KEHYxyp6ky"
      },
      "execution_count": null,
      "outputs": []
    },
    {
      "cell_type": "code",
      "source": [
        "x=input(\"Entre com o valor do fatorial desejado:\")\n",
        "y=int(x)\n",
        "fac = 1\n",
        "for i in range(1,y+1):\n",
        "  #print(fac)\n",
        "  fac *= i\n",
        "fac\n",
        "if y<5:\n",
        "  print(\"O resultado é:\",fac)\n",
        "else:\n",
        "  print(\"valor alto\")"
      ],
      "metadata": {
        "id": "wF9y7t73g57q"
      },
      "execution_count": null,
      "outputs": []
    }
  ]
}