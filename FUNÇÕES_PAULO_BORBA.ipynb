{
  "nbformat": 4,
  "nbformat_minor": 0,
  "metadata": {
    "colab": {
      "provenance": [],
      "authorship_tag": "ABX9TyPWh5EcSlcekTPKdPJz6LrP",
      "include_colab_link": true
    },
    "kernelspec": {
      "name": "python3",
      "display_name": "Python 3"
    },
    "language_info": {
      "name": "python"
    }
  },
  "cells": [
    {
      "cell_type": "markdown",
      "metadata": {
        "id": "view-in-github",
        "colab_type": "text"
      },
      "source": [
        "<a href=\"https://colab.research.google.com/github/estudophyton/data-science-from-scratch/blob/master/FUN%C3%87%C3%95ES_PAULO_BORBA.ipynb\" target=\"_parent\"><img src=\"https://colab.research.google.com/assets/colab-badge.svg\" alt=\"Open In Colab\"/></a>"
      ]
    },
    {
      "cell_type": "markdown",
      "source": [
        "##CÁLCULO DE FATORIAL DE QUALQUER NÚMERO"
      ],
      "metadata": {
        "id": "3eHJjoRNqibb"
      }
    },
    {
      "cell_type": "code",
      "execution_count": 73,
      "metadata": {
        "colab": {
          "base_uri": "https://localhost:8080/"
        },
        "id": "BHETyr8baYnj",
        "outputId": "f4f2c6ad-f6d2-4954-de1b-38aa829d6bb6"
      },
      "outputs": [
        {
          "output_type": "stream",
          "name": "stdout",
          "text": [
            "Entre com o valor do fatorial desejado:2\n",
            "O resultado é: 2\n"
          ]
        }
      ],
      "source": [
        "x=input(\"Entre com o valor do fatorial desejado:\")\n",
        "y=int(x)\n",
        "fac = 1\n",
        "for i in range(1,y+1):\n",
        "  #print(fac)\n",
        "  fac *= i\n",
        "fac\n",
        "print(\"O resultado é:\",fac)"
      ]
    },
    {
      "cell_type": "markdown",
      "source": [
        "#CÁLCULO SOMATÓRIA DOS NÚMEROS EM UM INTERVALO\n",
        "######OBS.:O SEGUNDO NÚMERO DEVE SER MAIOR QUE O PRIMEIRO"
      ],
      "metadata": {
        "id": "m20DaQet31zi"
      }
    },
    {
      "cell_type": "code",
      "source": [
        "x=input(\"Entre com o número inicial do intervalo da soma:\")\n",
        "a=int(x)\n",
        "y=input(\"Entre com o número final do intervalo da soma:\")\n",
        "b=int(y)\n",
        "if b>a:\n",
        " soma = 0\n",
        " for i in range(a,b+1):\n",
        "  #print(i, soma)\n",
        "  soma = soma + i\n",
        " print(\"o somatório dos numeros neste intervalo é\", soma)\n",
        "else:\n",
        "   print(\"O segundo número deve ser maior que o primeiro\")"
      ],
      "metadata": {
        "colab": {
          "base_uri": "https://localhost:8080/"
        },
        "id": "wF9y7t73g57q",
        "outputId": "8f80971e-dce1-4057-8999-d0d886cdbda7"
      },
      "execution_count": 88,
      "outputs": [
        {
          "output_type": "stream",
          "name": "stdout",
          "text": [
            "Entre com o número inicial do intervalo da soma:1\n",
            "Entre com o número final do intervalo da soma:4\n",
            "o somatório dos numeros neste intervalo é 10\n"
          ]
        }
      ]
    }
  ]
}